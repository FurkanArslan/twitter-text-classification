{
 "cells": [
  {
   "cell_type": "code",
   "execution_count": 1,
   "metadata": {
    "collapsed": false
   },
   "outputs": [],
   "source": [
    "from BenchmarkTests import BenchmarkClassification\n",
    "from TwitterClassificationProject import TwitterClassificationProject"
   ]
  },
  {
   "cell_type": "code",
   "execution_count": null,
   "metadata": {},
   "outputs": [],
   "source": [
    "test = BenchmarkClassification('twitter_sentiment_corpus.csv')\n",
    "\n",
    "classification = test.benchmarkClassification()\n",
    "\n",
    "parametersForLinerSVC = {\n",
    "     'vect__max_features' : (None, 50, 100,1000)\n",
    "     'vect__ngram_range': [(1, 2), (1, 3), (1, 4), (1, 5) ,(1, 6), (1, 7)],\n",
    "     'vect__use_idf': (True, False),\n",
    "     'vect__sublinear_tf': (True, False),\n",
    "     'vect__smooth_idf': (True, False),\n",
    "     'vect__min_df' : np.arange(1, 10, 2),\n",
    "     'vect__norm' : ('l1', 'l2', None),\n",
    "     'clf__C' : np.arange(1, 22, 5)\n",
    "     'clf__loss' : ( 'hinge','squared_hinge'),\n",
    "     'clf__penalty' : ('l1', 'l2')\n",
    "     'clf__dual' : (True, False)\n",
    "     'clf__tol': (1e-1, 1e-2,1e-3,1e-4, 1e-5)\n",
    "     'clf__n_iter' : np.arange(50, 200, 20),\n",
    "}\n",
    "\n",
    "test.findBestParameters(classification, parametersForLinerSVC, 10)"
   ]
  },
  {
   "cell_type": "code",
   "execution_count": 2,
   "metadata": {
    "collapsed": false
   },
   "outputs": [
    {
     "data": {
      "text/plain": [
       "0.78854534294920975"
      ]
     },
     "execution_count": 2,
     "metadata": {},
     "output_type": "execute_result"
    }
   ],
   "source": [
    "textClassification = TwitterClassificationProject('twitter_sentiment_corpus.csv')\n",
    "textClassification.testClassificationQuality()"
   ]
  },
  {
   "cell_type": "code",
   "execution_count": null,
   "metadata": {},
   "outputs": [],
   "source": [
    ""
   ]
  }
 ],
 "metadata": {
  "anaconda-cloud": {},
  "kernelspec": {
   "display_name": "Python [default]",
   "language": "python",
   "name": "python3"
  },
  "language_info": {
   "codemirror_mode": {
    "name": "ipython",
    "version": 3.0
   },
   "file_extension": ".py",
   "mimetype": "text/x-python",
   "name": "python",
   "nbconvert_exporter": "python",
   "pygments_lexer": "ipython3",
   "version": "3.5.2"
  }
 },
 "nbformat": 4,
 "nbformat_minor": 0
}